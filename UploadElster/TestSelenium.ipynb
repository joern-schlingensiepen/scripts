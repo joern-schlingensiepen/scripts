{
 "cells": [
  {
   "cell_type": "markdown",
   "metadata": {},
   "source": [
    "\"V:\\Steuer\\2023\\Rückfragen Finanzamt\\Daten für 2022 - 2021 AFA - Habitat (2021)_scan.pdf\"\n",
    "\"V:\\Farming\\Certa\\Lindenweg\\2024-12-27-11_10-2023-F-Matthias Mertens_scan.pdf\"\n",
    "\"V:\\Farming\\Certa\\Tannenweg\\2024-12-27-11_10-2024-F-Matthias Mertens_scan.pdf\"\n",
    "\"V:\\Farming\\Homberg\\Mieter\\16-0-L-Yusufi\\01 Vertrag\\2023-12-01 [2023-12-03] [14-47-15] [579-01] BrotherScanner_02012018_015254_010408.pdf\"\n",
    "\"V:\\Farming\\Homberg\\Mieter\\13-1-R-Ignatov\\01 Vertrag\\2023-04-01 [2023-04-01] [16-57-13] [469-01] BrotherScanner_03092018_045212_007749.pdf\"\n",
    "\"V:\\Farming\\Homberg\\Mieter\\15-1-R-Kanaskina\\01 Vertrag\\1990-07-28 [2022-12-03] [21-17-03] [388-01] BrotherScanner_02172018_083747_004243.pdf\"\n",
    "\"V:\\Farming\\Homberg\\Mieter\\14-1-R-Kubariev\\01 Vertrag\\[2025-01-06] [17-18-24] [0000] BrotherScanner_03082019_042517_016630.pdf\"\n",
    "\"V:\\Farming\\Homberg\\Mieter\\14-0-R-Alizade\\01 Vertrag\\[2025-01-06] [17-15-07] [0000] BrotherScanner_03082019_042055_016614.pdf\"\n",
    "\"V:\\Farming\\Homberg\\Mieter\\16-2-L-Heydar\\01 Vertrag\\[2025-01-06] [17-24-00] [0000] BrotherScanner_03082019_043055_016646.pdf\"\n",
    "\"V:\\Farming\\Homberg\\Mieter\\16-2-R-Todorov\\01 Vertrag\\[2025-01-06] [17-27-15] [0000] BrotherScanner_03082019_043417_016662.pdf\""
   ]
  },
  {
   "cell_type": "code",
   "execution_count": 101,
   "metadata": {},
   "outputs": [],
   "source": [
    "from selenium import webdriver\n",
    "from selenium.webdriver.common.by import By\n",
    "import pyperclip\n",
    "import time\n",
    "from selenium.webdriver.support.ui import Select\n",
    "\n",
    "pyperclip.copy(r\"\\\\fileserver\\orga\\data\\jsp-pers_elster_24.11.2022_12.38.pfx\")\n",
    "# Create a new instance of the Firefox driver\n",
    "driver = webdriver.Firefox()\n",
    "\n",
    "driver.get('https://www.elster.de/eportal/login/softpse')"
   ]
  },
  {
   "cell_type": "code",
   "execution_count": 102,
   "metadata": {},
   "outputs": [],
   "source": [
    "driver.get('https://www.elster.de/eportal/formulare-leistungen/alleformulare/belegnachreichung')\n",
    "driver.implicitly_wait(3)\n",
    "\n",
    "# Find the element with the text \"Alle Formulare\"\n",
    "element = driver.find_element(By.CSS_SELECTOR, \"[aria-label='Weiter. Weiter ins Formular'\")\n",
    "# Click on the element\n",
    "element.click()\n",
    "driver.implicitly_wait(3)\n",
    "time.sleep(.5)\n"
   ]
  },
  {
   "cell_type": "code",
   "execution_count": 103,
   "metadata": {},
   "outputs": [
    {
     "name": "stdout",
     "output_type": "stream",
     "text": [
      "TTT\n",
      "TTT\n"
     ]
    }
   ],
   "source": [
    "from selenium.webdriver.common.by import By\n",
    "\n",
    "for dialog in driver.find_elements(By.XPATH, \"//span[text()='Steuernummer']\"):\n",
    "    print (\"TTT\")\n",
    "    dialog.click()\n",
    "\n",
    "time.sleep(.5)"
   ]
  },
  {
   "cell_type": "code",
   "execution_count": 104,
   "metadata": {},
   "outputs": [],
   "source": [
    "\n",
    "select_element = driver.find_element(By.ID, 'dialogeruBelegnachreichungOrdnungsbegriffSteuernummer-country')\n",
    "select = Select(select_element)\n",
    "select.select_by_visible_text('Hessen')\n",
    "\n",
    "time.sleep(.5)\n",
    "\n",
    "input = driver.find_element(By.ID, 'dialogeruBelegnachreichungOrdnungsbegriffSteuernummer-tax-number-tax-office')\n",
    "input.send_keys('01886530882')\n",
    "\n",
    "time.sleep(.5)\n",
    "\n",
    "button = driver.find_element(By.ID, 'NextPage')\n",
    "button.click()"
   ]
  },
  {
   "cell_type": "code",
   "execution_count": null,
   "metadata": {},
   "outputs": [],
   "source": []
  },
  {
   "cell_type": "code",
   "execution_count": 105,
   "metadata": {},
   "outputs": [
    {
     "name": "stdout",
     "output_type": "stream",
     "text": [
      "suchstring\n",
      "fields[eruBelegnachreichungPersoenliche_DatenPerson_AIdentifikationsnummer]\n",
      "fields[eruBelegnachreichungPersoenliche_DatenPerson_ABezeichnung]\n",
      "fields[eruBelegnachreichungPersoenliche_DatenPerson_ATitel]\n",
      "fields[eruBelegnachreichungPersoenliche_DatenPerson_AVorname]\n",
      "fields[eruBelegnachreichungPersoenliche_DatenPerson_ANamensvorsatz]\n",
      "fields[eruBelegnachreichungPersoenliche_DatenPerson_AName]\n",
      "fields[eruBelegnachreichungPersoenliche_DatenPerson_ANamenszusatz]\n",
      "fields[eruBelegnachreichungPersoenliche_DatenPerson_AGeburtsdatum]\n",
      "suchstring\n",
      "suchstring\n"
     ]
    }
   ],
   "source": [
    "\n",
    "selects = driver.find_elements(By.TAG_NAME, 'select')\n",
    "for select_element in selects:\n",
    "    select = Select(select_element)\n",
    "    select.select_by_visible_text('natürliche Person')\n",
    "\n",
    "values = [None, '63501147828', 'Jörn Schlingensiepen', 'Prof. Dr.-Ing.', 'Jörn', 'Schlingensiepen', 'Jörn Schlingensiepen','', '14.10.1976', None, None]\n",
    "inputs = driver.find_elements(By.TAG_NAME, 'input')\n",
    "inputs = [input for input in inputs if input.get_attribute('type') != 'hidden']\n",
    "\n",
    "for input in inputs:\n",
    "    print (input.get_attribute('name'))\n",
    "\n",
    "for value, input in zip (values, inputs):\n",
    "    if value is None:\n",
    "        continue\n",
    "    input.clear()\n",
    "    input.send_keys(value)\n",
    "    time.sleep(.5)\n",
    "\n",
    "button = driver.find_element(By.ID, 'NextPage')\n",
    "button.click()\n",
    "time.sleep(1)\n",
    "\n",
    "\n"
   ]
  },
  {
   "cell_type": "code",
   "execution_count": 106,
   "metadata": {},
   "outputs": [],
   "source": [
    "button = driver.find_element(By.ID, 'NextPage')\n",
    "button.click()\n",
    "time.sleep(1)\n"
   ]
  },
  {
   "cell_type": "code",
   "execution_count": 107,
   "metadata": {},
   "outputs": [],
   "source": [
    "button = driver.find_element(By.ID, 'NextPage')\n",
    "button.click()\n",
    "time.sleep(1)\n"
   ]
  },
  {
   "cell_type": "code",
   "execution_count": 108,
   "metadata": {},
   "outputs": [],
   "source": [
    "selects = driver.find_elements(By.TAG_NAME, 'select')\n",
    "select = Select(selects[0])\n",
    "select.select_by_visible_text('2023')\n",
    "\n",
    "select = Select(selects[1])\n",
    "select.select_by_visible_text('Einkommensteuererklärung')\n"
   ]
  },
  {
   "cell_type": "code",
   "execution_count": 109,
   "metadata": {},
   "outputs": [],
   "source": [
    "button = driver.find_element(By.ID, 'NextPage')\n",
    "button.click()\n",
    "time.sleep(1)\n"
   ]
  },
  {
   "cell_type": "code",
   "execution_count": 110,
   "metadata": {},
   "outputs": [],
   "source": [
    "import os\n",
    "from selenium.webdriver.common.action_chains import ActionChains\n",
    "import os\n",
    "dropzone = driver.find_element(By.CLASS_NAME, 'objectField__field')\n",
    "\n",
    "# Path to the file you want to drop\n",
    "file_path = r\"C:\\Users\\joern\\Downloads\\38C3-DLYEJFSCMA-1-pdf_scan.pdf\"\n",
    "# \"C:\\Users\\joern\\Downloads\\38C3-XVQGLD7HGL-1-pdf_scan.pdf\"\"\n",
    "\n",
    "inputs = driver.find_elements(By.CSS_SELECTOR, 'input[type=\"text\"]')\n",
    "for input in inputs:\n",
    "    input.clear()\n",
    "    display_name = os.path.basename(file_path)\n",
    "    display_name = os.path.splitext(display_name)[0]\n",
    "    display_name = display_name.replace('-', ' ')\n",
    "    display_name = display_name.replace('_', ' ')\n",
    "    input.send_keys(display_name)\n",
    "time.sleep(1)\n",
    "\n",
    "elements = driver.find_elements(By.CSS_SELECTOR, \"input[type='file']\")\n",
    "for element in elements:\n",
    "    element.send_keys(file_path)\n",
    "time.sleep(1)\n",
    "\n",
    "button = driver.find_element(By.ID, 'SwitchModus')\n",
    "button.click()\n",
    "time.sleep(1)\n"
   ]
  },
  {
   "cell_type": "code",
   "execution_count": 111,
   "metadata": {},
   "outputs": [],
   "source": [
    "button = driver.find_element(By.ID, 'defaultbutton')\n",
    "button.click()\n",
    "time.sleep(1)\n"
   ]
  },
  {
   "cell_type": "code",
   "execution_count": 112,
   "metadata": {},
   "outputs": [],
   "source": [
    "button = driver.find_element(By.ID, 'defaultbutton')\n",
    "button.click()\n",
    "time.sleep(1)\n"
   ]
  },
  {
   "cell_type": "code",
   "execution_count": 113,
   "metadata": {},
   "outputs": [
    {
     "name": "stdout",
     "output_type": "stream",
     "text": [
      "ep0031i35cn1fk054bqwmqy25gt56hxw 38C3 DLYEJFSCMA 1 pdf scan C:\\Users\\joern\\Downloads\\38C3-DLYEJFSCMA-1-pdf_scan.pdf\n"
     ]
    }
   ],
   "source": [
    "transferticket = driver.find_element(By.ID, 'transferticket')\n",
    "transferticket = transferticket.text\n",
    "print (transferticket, display_name, file_path)\n",
    "\n"
   ]
  },
  {
   "cell_type": "code",
   "execution_count": null,
   "metadata": {},
   "outputs": [],
   "source": [
    "# Close the browser\n",
    "driver.quit()\n"
   ]
  }
 ],
 "metadata": {
  "kernelspec": {
   "display_name": "base",
   "language": "python",
   "name": "python3"
  },
  "language_info": {
   "codemirror_mode": {
    "name": "ipython",
    "version": 3
   },
   "file_extension": ".py",
   "mimetype": "text/x-python",
   "name": "python",
   "nbconvert_exporter": "python",
   "pygments_lexer": "ipython3",
   "version": "3.11.7"
  }
 },
 "nbformat": 4,
 "nbformat_minor": 2
}
