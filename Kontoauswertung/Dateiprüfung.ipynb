{
 "cells": [
  {
   "cell_type": "code",
   "execution_count": null,
   "id": "22a581f1",
   "metadata": {},
   "outputs": [],
   "source": [
    "def fix_double_pdf_extension(root_dir):\n",
    "    \"\"\"\n",
    "    Durchsucht alle Unterverzeichnisse von root_dir und benennt alle Dateien um, deren Name auf .pdf.pdf endet,\n",
    "    sodass sie nur noch einmal .pdf als Extension haben.\n",
    "    \"\"\"\n",
    "    for dirpath, _, filenames in os.walk(root_dir):\n",
    "        for fname in filenames:\n",
    "            if fname.lower().endswith('.pdf.pdf'):\n",
    "                old_path = os.path.join(dirpath, fname)\n",
    "                new_name = fname[:-4]  # Entfernt das letzte '.pdf'\n",
    "                new_path = os.path.join(dirpath, new_name)\n",
    "                try:\n",
    "                    # os.rename(old_path, new_path)\n",
    "                    print(f\"Umbenannt: {old_path} -> {new_path}\")\n",
    "                except Exception as e:\n",
    "                    print(f\"Fehler beim Umbenennen von {old_path}: {e}\")\n",
    "\n",
    "# Beispiel für die Nutzung:\n",
    "fix_double_pdf_extension(r\"W:\\Dokument-Download\")\n"
   ]
  },
  {
   "cell_type": "code",
   "execution_count": null,
   "id": "b3d9507f",
   "metadata": {},
   "outputs": [],
   "source": [
    "import os\n",
    "from collections import defaultdict\n",
    "\n",
    "def find_duplicate_filenames(root_dir, ignore):\n",
    "    \"\"\"\n",
    "    Durchsucht alle Unterverzeichnisse von root_dir und gibt eine Liste aller Dateipfade zurück,\n",
    "    bei denen der Dateiname (ohne Pfad) mehrfach vorkommt.\n",
    "    \"\"\"\n",
    "    name_to_paths = defaultdict(list)\n",
    "    for dirpath, _, filenames in os.walk(root_dir):\n",
    "        for fname in filenames:\n",
    "            if fname in ignore : continue\n",
    "            name_to_paths[fname].append(os.path.join(dirpath, fname))\n",
    "    duplicates = {name: paths for name, paths in name_to_paths.items() if len(paths) > 1}\n",
    "    return duplicates\n",
    "\n",
    "# Beispiel für die Nutzung:\n",
    "duplicates = find_duplicate_filenames(r\"W:\\Dokument-Download\", [\"Thumbs.db\"])\n",
    "for name, paths in duplicates.items():\n",
    "    print(f\"Dateiname: {name}\")\n",
    "    for p in paths:\n",
    "        print(f\"{p}\")\n",
    "        pfad_ohne_ext, extension = os.path.splitext(p)\n",
    "        verzeichnis = os.path.basename(os.path.dirname(p))\n",
    "        num = verzeichnis[:3]\n",
    "        pfad_ohne_ext = pfad_ohne_ext.strip()\n",
    "        target = f\"{pfad_ohne_ext} [{num}]{extension}\"\n",
    "        print (\"-->\" + target)\n",
    "        print ()\n",
    "        try:\n",
    "            #os.rename(p, target)\n",
    "            print(f\"Umbenannt: {p} -> {target}\")\n",
    "        except Exception as e:\n",
    "            print(f\"Fehler beim Umbenennen von {p}: {e}\")\n",
    "\n"
   ]
  }
 ],
 "metadata": {
  "language_info": {
   "name": "python"
  }
 },
 "nbformat": 4,
 "nbformat_minor": 5
}
